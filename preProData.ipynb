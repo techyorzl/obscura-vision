{
 "cells": [
  {
   "cell_type": "code",
   "execution_count": 2,
   "metadata": {},
   "outputs": [],
   "source": [
    "import numpy as np\n",
    "import pandas as pd\n",
    "from pathlib import Path\n",
    "import pathlib\n",
    "import cv2"
   ]
  },
  {
   "cell_type": "code",
   "execution_count": 3,
   "metadata": {},
   "outputs": [
    {
     "name": "stdout",
     "output_type": "stream",
     "text": [
      "Applied Gaussian blur to UCF-101/ApplyEyeMakeup/v_ApplyEyeMakeup_g15_c01.avi and saved as UCF-101-Blurred/ApplyEyeMakeup-Blurred/applyeyemakeup-vid1.mp4\n",
      "Applied Gaussian blur to UCF-101/ApplyEyeMakeup/v_ApplyEyeMakeup_g06_c05.avi and saved as UCF-101-Blurred/ApplyEyeMakeup-Blurred/applyeyemakeup-vid2.mp4\n",
      "Applied Gaussian blur to UCF-101/ApplyEyeMakeup/v_ApplyEyeMakeup_g20_c03.avi and saved as UCF-101-Blurred/ApplyEyeMakeup-Blurred/applyeyemakeup-vid3.mp4\n",
      "Applied Gaussian blur to UCF-101/ApplyEyeMakeup/v_ApplyEyeMakeup_g24_c03.avi and saved as UCF-101-Blurred/ApplyEyeMakeup-Blurred/applyeyemakeup-vid4.mp4\n",
      "Applied Gaussian blur to UCF-101/ApplyEyeMakeup/v_ApplyEyeMakeup_g25_c07.avi and saved as UCF-101-Blurred/ApplyEyeMakeup-Blurred/applyeyemakeup-vid5.mp4\n",
      "Applied Gaussian blur to UCF-101/ApplyEyeMakeup/v_ApplyEyeMakeup_g01_c01.avi and saved as UCF-101-Blurred/ApplyEyeMakeup-Blurred/applyeyemakeup-vid6.mp4\n",
      "Applied Gaussian blur to UCF-101/ApplyEyeMakeup/v_ApplyEyeMakeup_g08_c04.avi and saved as UCF-101-Blurred/ApplyEyeMakeup-Blurred/applyeyemakeup-vid7.mp4\n",
      "Applied Gaussian blur to UCF-101/ApplyEyeMakeup/v_ApplyEyeMakeup_g05_c02.avi and saved as UCF-101-Blurred/ApplyEyeMakeup-Blurred/applyeyemakeup-vid8.mp4\n",
      "Applied Gaussian blur to UCF-101/ApplyEyeMakeup/v_ApplyEyeMakeup_g24_c02.avi and saved as UCF-101-Blurred/ApplyEyeMakeup-Blurred/applyeyemakeup-vid9.mp4\n",
      "Applied Gaussian blur to UCF-101/ApplyEyeMakeup/v_ApplyEyeMakeup_g11_c02.avi and saved as UCF-101-Blurred/ApplyEyeMakeup-Blurred/applyeyemakeup-vid10.mp4\n",
      "Applied Gaussian blur to UCF-101/ApplyEyeMakeup/v_ApplyEyeMakeup_g17_c03.avi and saved as UCF-101-Blurred/ApplyEyeMakeup-Blurred/applyeyemakeup-vid11.mp4\n",
      "Applied Gaussian blur to UCF-101/ApplyEyeMakeup/v_ApplyEyeMakeup_g22_c03.avi and saved as UCF-101-Blurred/ApplyEyeMakeup-Blurred/applyeyemakeup-vid12.mp4\n",
      "Applied Gaussian blur to UCF-101/ApplyEyeMakeup/v_ApplyEyeMakeup_g05_c01.avi and saved as UCF-101-Blurred/ApplyEyeMakeup-Blurred/applyeyemakeup-vid13.mp4\n",
      "Applied Gaussian blur to UCF-101/ApplyEyeMakeup/v_ApplyEyeMakeup_g01_c04.avi and saved as UCF-101-Blurred/ApplyEyeMakeup-Blurred/applyeyemakeup-vid14.mp4\n",
      "Applied Gaussian blur to UCF-101/ApplyEyeMakeup/v_ApplyEyeMakeup_g16_c02.avi and saved as UCF-101-Blurred/ApplyEyeMakeup-Blurred/applyeyemakeup-vid15.mp4\n",
      "Applied Gaussian blur to UCF-101/ApplyEyeMakeup/v_ApplyEyeMakeup_g09_c01.avi and saved as UCF-101-Blurred/ApplyEyeMakeup-Blurred/applyeyemakeup-vid16.mp4\n",
      "Applied Gaussian blur to UCF-101/ApplyEyeMakeup/v_ApplyEyeMakeup_g07_c01.avi and saved as UCF-101-Blurred/ApplyEyeMakeup-Blurred/applyeyemakeup-vid17.mp4\n",
      "Applied Gaussian blur to UCF-101/ApplyEyeMakeup/v_ApplyEyeMakeup_g24_c07.avi and saved as UCF-101-Blurred/ApplyEyeMakeup-Blurred/applyeyemakeup-vid18.mp4\n",
      "Applied Gaussian blur to UCF-101/ApplyEyeMakeup/v_ApplyEyeMakeup_g02_c01.avi and saved as UCF-101-Blurred/ApplyEyeMakeup-Blurred/applyeyemakeup-vid19.mp4\n",
      "Applied Gaussian blur to UCF-101/ApplyEyeMakeup/v_ApplyEyeMakeup_g12_c03.avi and saved as UCF-101-Blurred/ApplyEyeMakeup-Blurred/applyeyemakeup-vid20.mp4\n",
      "Applied Gaussian blur to UCF-101/ApplyEyeMakeup/v_ApplyEyeMakeup_g22_c04.avi and saved as UCF-101-Blurred/ApplyEyeMakeup-Blurred/applyeyemakeup-vid21.mp4\n"
     ]
    },
    {
     "ename": "KeyboardInterrupt",
     "evalue": "",
     "output_type": "error",
     "traceback": [
      "\u001b[0;31m---------------------------------------------------------------------------\u001b[0m",
      "\u001b[0;31mKeyboardInterrupt\u001b[0m                         Traceback (most recent call last)",
      "Cell \u001b[0;32mIn[3], line 38\u001b[0m\n\u001b[1;32m     35\u001b[0m vidFile \u001b[38;5;241m=\u001b[39m \u001b[38;5;124mf\u001b[39m\u001b[38;5;124m'\u001b[39m\u001b[38;5;132;01m{\u001b[39;00m\u001b[38;5;28mdir\u001b[39m\u001b[38;5;241m.\u001b[39mname\u001b[38;5;241m.\u001b[39mlower()\u001b[38;5;132;01m}\u001b[39;00m\u001b[38;5;124m-vid\u001b[39m\u001b[38;5;132;01m{\u001b[39;00mi\u001b[38;5;132;01m}\u001b[39;00m\u001b[38;5;124m.mp4\u001b[39m\u001b[38;5;124m'\u001b[39m\n\u001b[1;32m     36\u001b[0m vidPath \u001b[38;5;241m=\u001b[39m newDirPath \u001b[38;5;241m/\u001b[39m vidFile\n\u001b[0;32m---> 38\u001b[0m \u001b[43mapplyGaussianBlur\u001b[49m\u001b[43m(\u001b[49m\u001b[38;5;28;43mstr\u001b[39;49m\u001b[43m(\u001b[49m\u001b[43mvid\u001b[49m\u001b[43m)\u001b[49m\u001b[43m,\u001b[49m\u001b[43m \u001b[49m\u001b[38;5;28;43mstr\u001b[39;49m\u001b[43m(\u001b[49m\u001b[43mvidPath\u001b[49m\u001b[43m)\u001b[49m\u001b[43m,\u001b[49m\u001b[43m \u001b[49m\u001b[43mkernel_size\u001b[49m\u001b[38;5;241;43m=\u001b[39;49m\u001b[43m(\u001b[49m\u001b[38;5;241;43m15\u001b[39;49m\u001b[43m,\u001b[49m\u001b[38;5;241;43m15\u001b[39;49m\u001b[43m)\u001b[49m\u001b[43m)\u001b[49m\n\u001b[1;32m     40\u001b[0m i \u001b[38;5;241m+\u001b[39m\u001b[38;5;241m=\u001b[39m \u001b[38;5;241m1\u001b[39m\n\u001b[1;32m     41\u001b[0m \u001b[38;5;28mprint\u001b[39m(\u001b[38;5;124mf\u001b[39m\u001b[38;5;124m\"\u001b[39m\u001b[38;5;124mApplied Gaussian blur to \u001b[39m\u001b[38;5;132;01m{\u001b[39;00mvid\u001b[38;5;132;01m}\u001b[39;00m\u001b[38;5;124m and saved as \u001b[39m\u001b[38;5;132;01m{\u001b[39;00mvidPath\u001b[38;5;132;01m}\u001b[39;00m\u001b[38;5;124m\"\u001b[39m)\n",
      "Cell \u001b[0;32mIn[3], line 16\u001b[0m, in \u001b[0;36mapplyGaussianBlur\u001b[0;34m(input_video, output_video, kernel_size)\u001b[0m\n\u001b[1;32m     13\u001b[0m     \u001b[38;5;28;01mif\u001b[39;00m \u001b[38;5;129;01mnot\u001b[39;00m ret:\n\u001b[1;32m     14\u001b[0m         \u001b[38;5;28;01mbreak\u001b[39;00m\n\u001b[0;32m---> 16\u001b[0m     blurred_frame \u001b[38;5;241m=\u001b[39m \u001b[43mcv2\u001b[49m\u001b[38;5;241;43m.\u001b[39;49m\u001b[43mGaussianBlur\u001b[49m\u001b[43m(\u001b[49m\u001b[43mframe\u001b[49m\u001b[43m,\u001b[49m\u001b[43m \u001b[49m\u001b[43mkernel_size\u001b[49m\u001b[43m,\u001b[49m\u001b[43m \u001b[49m\u001b[38;5;241;43m0\u001b[39;49m\u001b[43m)\u001b[49m\n\u001b[1;32m     18\u001b[0m     out\u001b[38;5;241m.\u001b[39mwrite(blurred_frame)\n\u001b[1;32m     20\u001b[0m cap\u001b[38;5;241m.\u001b[39mrelease()\n",
      "\u001b[0;31mKeyboardInterrupt\u001b[0m: "
     ]
    }
   ],
   "source": [
    "def applyGaussianBlur(input_video, output_video, kernel_size=(15,15)):\n",
    "    cap = cv2.VideoCapture(input_video)\n",
    "    \n",
    "    frame_width = int(cap.get(cv2.CAP_PROP_FRAME_WIDTH))\n",
    "    frame_height = int(cap.get(cv2.CAP_PROP_FRAME_HEIGHT))\n",
    "    fps = int(cap.get(cv2.CAP_PROP_FPS))\n",
    "    \n",
    "    fourcc = cv2.VideoWriter_fourcc(*'mp4v')\n",
    "    out = cv2.VideoWriter(output_video, fourcc, fps, (frame_width, frame_height))\n",
    "    \n",
    "    while cap.isOpened():\n",
    "        ret, frame = cap.read()\n",
    "        if not ret:\n",
    "            break\n",
    "        \n",
    "        blurred_frame = cv2.GaussianBlur(frame, kernel_size, 0)\n",
    "        \n",
    "        out.write(blurred_frame)\n",
    "    \n",
    "    cap.release()\n",
    "    out.release()\n",
    "    cv2.destroyAllWindows()\n",
    "\n",
    "dataDir = pathlib.Path('UCF-101-Blurred')\n",
    "dataDir.mkdir(exist_ok=True)\n",
    "\n",
    "for dir in sorted(pathlib.Path('UCF-101/').glob('*')):\n",
    "    dirName = dir.name + '-Blurred'\n",
    "    newDirPath = dataDir / dirName\n",
    "    newDirPath.mkdir(parents=True, exist_ok=True)\n",
    "    i = 1\n",
    "\n",
    "    for vid in dir.iterdir():\n",
    "        if vid.is_file() and vid.suffix == '.avi':\n",
    "            vidFile = f'{dir.name.lower()}-vid{i}.mp4'\n",
    "            vidPath = newDirPath / vidFile\n",
    "\n",
    "            applyGaussianBlur(str(vid), str(vidPath), kernel_size=(15,15))\n",
    "            \n",
    "            i += 1\n",
    "            print(f\"Applied Gaussian blur to {vid} and saved as {vidPath}\")"
   ]
  },
  {
   "cell_type": "code",
   "execution_count": 7,
   "metadata": {},
   "outputs": [],
   "source": [
    "import os\n",
    "import matplotlib.pyplot as plt\n",
    "from moviepy.editor import VideoFileClip\n",
    "\n",
    "def get_video_duration(file_path):\n",
    "    clip = VideoFileClip(file_path)\n",
    "    duration = clip.duration\n",
    "    clip.close()\n",
    "    return duration\n",
    "\n",
    "def create_histogram(durations, folder_name, output_dir):\n",
    "    plt.figure(figsize=(10, 6))\n",
    "    plt.hist(durations, bins=20, edgecolor='black')\n",
    "    plt.title(f'Video Duration Histogram for {folder_name}')\n",
    "    plt.xlabel('Duration (seconds)')\n",
    "    plt.ylabel('Frequency')\n",
    "    plt.savefig(os.path.join(output_dir, f'{folder_name}_histogram.png'))\n",
    "    plt.close()\n",
    "\n",
    "def process_folders(root_folder, output_dir):\n",
    "    if not os.path.exists(output_dir):\n",
    "        os.makedirs(output_dir)\n",
    "\n",
    "    for folder_name in os.listdir(root_folder):\n",
    "        folder_path = os.path.join(root_folder, folder_name)\n",
    "        if os.path.isdir(folder_path):\n",
    "            durations = []\n",
    "            for file_name in os.listdir(folder_path):\n",
    "                if file_name.endswith('.avi'):\n",
    "                    file_path = os.path.join(folder_path, file_name)\n",
    "                    duration = get_video_duration(file_path)\n",
    "                    durations.append(duration)\n",
    "            \n",
    "            if durations:\n",
    "                create_histogram(durations, folder_name, output_dir)\n",
    "                print(f\"Histogram created for {folder_name}\")\n",
    "            else:\n",
    "                print(f\"No AVI files found in {folder_name}\")"
   ]
  },
  {
   "cell_type": "code",
   "execution_count": 9,
   "metadata": {},
   "outputs": [
    {
     "name": "stdout",
     "output_type": "stream",
     "text": [
      "Histogram created for BoxingSpeedBag\n",
      "Histogram created for BenchPress\n",
      "Histogram created for Archery\n",
      "Histogram created for BlowingCandles\n",
      "Histogram created for BodyWeightSquats\n",
      "Histogram created for BabyCrawling\n",
      "Histogram created for Biking\n",
      "Histogram created for BaseballPitch\n",
      "Histogram created for BandMarching\n",
      "Histogram created for Basketball\n",
      "Histogram created for ApplyEyeMakeup\n",
      "Histogram created for Billiards\n",
      "Histogram created for BlowDryHair\n",
      "Histogram created for ApplyLipstick\n",
      "Histogram created for Bowling\n",
      "Histogram created for BoxingPunchingBag\n",
      "Histogram created for BasketballDunk\n",
      "Histogram created for BalanceBeam\n"
     ]
    }
   ],
   "source": [
    "process_folders(\"UCF-101\", \"histFolder\")"
   ]
  }
 ],
 "metadata": {
  "kernelspec": {
   "display_name": ".venv",
   "language": "python",
   "name": "python3"
  },
  "language_info": {
   "codemirror_mode": {
    "name": "ipython",
    "version": 3
   },
   "file_extension": ".py",
   "mimetype": "text/x-python",
   "name": "python",
   "nbconvert_exporter": "python",
   "pygments_lexer": "ipython3",
   "version": "3.10.12"
  }
 },
 "nbformat": 4,
 "nbformat_minor": 2
}
